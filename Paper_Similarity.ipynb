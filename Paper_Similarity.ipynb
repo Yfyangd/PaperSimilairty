{
 "cells": [
  {
   "cell_type": "code",
   "execution_count": 9,
   "metadata": {},
   "outputs": [],
   "source": [
    "import PyPDF2\n",
    "import jieba\n",
    "import jieba.posseg as pseg\n",
    "from jieba import analyse\n",
    "import numpy as np\n",
    "import os"
   ]
  },
  {
   "cell_type": "markdown",
   "metadata": {},
   "source": [
    "# 1. Import Text from pdf"
   ]
  },
  {
   "cell_type": "code",
   "execution_count": 2,
   "metadata": {},
   "outputs": [],
   "source": [
    "#create file object variable\n",
    "#opening method will be rb\n",
    "Lin=open('Lin.pdf','rb')\n",
    "Yu=open('Yu.pdf','rb')"
   ]
  },
  {
   "cell_type": "markdown",
   "metadata": {},
   "source": [
    "# 2. Data Exploration"
   ]
  },
  {
   "cell_type": "code",
   "execution_count": 3,
   "metadata": {},
   "outputs": [
    {
     "name": "stdout",
     "output_type": "stream",
     "text": [
      "論文共:  96 頁\n",
      "\t\tdoi:10.6342/NTU201700203\n",
      " \n",
      " 國立臺灣大學社會科學院國家發展研究所  \n",
      "碩士論文  \n",
      "Graduate Institute of National Development \n",
      "College of Social Sciences \n",
      "National Taiwan University \n",
      "Master Thesis  \n",
      " \n",
      "三人競選 之中槓桿者的政治社會基礎及其影響  \n",
      "以2014 新竹市長選舉為例  \n",
      "The Political and Social Basis of the Role of Leverage \n",
      "in a Three Person Campaign \n",
      "-An  Analysis of the 2014 Hsinchu City Mayoral \n",
      "Election  \n",
      " \n",
      "林智堅  \n",
      "Chih-Chien Lin \n",
      " \n",
      "指導教授：陳明通  博士 \n",
      "Advisor: Ming-Tong Chen Ph.D \n",
      "   \n",
      "中華民國 106 年1月 \n"
     ]
    }
   ],
   "source": [
    "with open(\"Lin.pdf\", \"rb\") as pdf_file:\n",
    "    read_pdf = PyPDF2.PdfFileReader(pdf_file)\n",
    "    number_of_pages = read_pdf.getNumPages()\n",
    "    page = read_pdf.pages[0]\n",
    "    page_content = page.extractText()\n",
    "print(\"論文共: \",number_of_pages,\"頁\")\n",
    "print(page_content)"
   ]
  },
  {
   "cell_type": "code",
   "execution_count": 4,
   "metadata": {},
   "outputs": [
    {
     "name": "stdout",
     "output_type": "stream",
     "text": [
      "\t\tdoi:10.6342/NTU201700203\n",
      "10 \n",
      " 五、 根據上述的投票取向，如何進一步分析槓桿者的槓桿作用 ？ \n",
      "第三節  研究設計  \n",
      "壹、研究途徑與研究方 法 \n",
      "首先，所謂方法論（ methodology ）就是關於研究過程的分析工作，或對方法\n",
      "及研究法的批判工作。方法（ method ）只是收集及處理資料的技術；研究途徑\n",
      "（approach ）卻是選擇問題及資料的準則，因此方法（ method ）和研究途徑\n",
      "（approach ）有著本質上的不同6。 \n",
      "研究選舉有許多不同的途徑， 學者黃智聰、程小綾從經濟景氣的角度切入7，\n",
      "分析臺灣 縣市長選舉與政黨輪替之間的關聯性，而學者鄧志松選擇從 選舉地理學\n",
      "的概念切入，分析臺灣 三次總統大選8，不過依據學者 蔡佳泓、王金壽、王鼎銘的\n",
      "整理，過去 研究地方層級的選舉，大致上採取以下三種研究途徑9，第一個是個別\n",
      "縣市選民的投票行為； 第二則是描述地方派系在 選舉過程中動員選民的方式及成\n",
      "效；第三是從分立政府的角度切入，探討探討選民的投票行為。  \n",
      "而根據學者何金銘的整理， 美國關於研究選民投票行為的途徑主要有以下三\n",
      "種研究途徑10，第一個是社會學研究途徑（ sociological approach ），主要探討選民\n",
      "的宗教、社會經濟及區位等因素，對選民投票行為的影響；第二個則是 社會心理\n",
      "學研究途徑（ social psychological approach ），主要從政黨認同、政見取向及候選\n",
      "人取向，探討對選民投票行為的影響；第三個則是 經濟學途徑（ economic \n",
      "approach ），假設選民是理性且有充裕的資訊，選民會經過理性的計算，進而選出                                                                                                                            5  胡佛(1998 ) 。《政治學的科學探究 (三)政治參與與選舉行為》 ，臺北市：三民書局。頁 177 -213 。 6  易君博 (2003 ) 。《政治理論與研究方法》。臺北：三民書局，頁 97。 7  黃智聰、程小綾  ，2005 ，〈經濟投票與政黨輪替 --以臺灣縣市長選舉為例〉，《選舉研究》，\n",
      "第十二卷 (第二期 )，頁45-78。 8  鄧志松， 2006 ，〈選舉的空間因素：以三次總統選舉為例〉，《國家發展研究》，第六卷 (第一\n",
      "期)，頁89-144 。 9  蔡佳泓、王金壽、王鼎銘， 2007 ，〈以濁水縣為例解析臺灣  2005 年三合一選舉的聯合動員效\n",
      "應〉，《臺灣政治學刊》，第十一卷 (第二期 ) ，頁175 -176 。 10 何金銘， 〈選民投票的決定因素：第十三屆縣市長選舉個案分析 〉。\n",
      "https://srda.sinica.edu.tw/search/scidown/1241 。2017/01/16 檢索。  \n"
     ]
    }
   ],
   "source": [
    "with open(\"Lin.pdf\", \"rb\") as pdf_file:\n",
    "    read_pdf = PyPDF2.PdfFileReader(pdf_file)\n",
    "    number_of_pages = read_pdf.getNumPages()\n",
    "    page = read_pdf.pages[10]\n",
    "    page_content = page.extractText()\n",
    "print(page_content)"
   ]
  },
  {
   "cell_type": "code",
   "execution_count": 5,
   "metadata": {},
   "outputs": [
    {
     "name": "stdout",
     "output_type": "stream",
     "text": [
      "論文共:  97 頁\n",
      "doi:10.6342/NTU201601231\n",
      "國立臺灣大學社會科學院國家發展研究所 碩士論文 \n",
      "Graduate Institute of National Development  College of Social Sciences\n",
      " National Taiwan University Master Thesis \n",
      " 2014年新竹市長選舉研究： 林智堅勝選的政治社會基礎\n",
      " \n",
      "A Study of Hsinchu City Mayor Election: Social-Political Basis of Election Winner Lin Chih-Chien  余正煌 Cheng-Huang Yu  指導教授：李碧涵博士 Advisor: Bih-Hearn Lee, Ph.D.  中華民國105年7月 July, 2016  \n",
      "  \n"
     ]
    }
   ],
   "source": [
    "with open(\"Yu.pdf\", \"rb\") as pdf_file:\n",
    "    read_pdf = PyPDF2.PdfFileReader(pdf_file)\n",
    "    number_of_pages = read_pdf.getNumPages()\n",
    "    page = read_pdf.pages[0]\n",
    "    page_content = page.extractText()\n",
    "print(\"論文共: \",number_of_pages,\"頁\")\n",
    "print(page_content)"
   ]
  },
  {
   "cell_type": "code",
   "execution_count": 6,
   "metadata": {},
   "outputs": [
    {
     "name": "stdout",
     "output_type": "stream",
     "text": [
      "doi:10.6342/NTU201601231\n",
      "如前述，現任新竹市長林智堅在一路不被看好的情形下當選勝出，本研究更深究其中造成林智堅勝選更深層的社會、政治，甚至個人因素。扣除掉前述對外公開之民調結果，從更深一層的新竹市選民結構來看，新竹市選民結構，深藍選民占23%，淺藍選民占21%；深綠占21%，淺綠占8%，另有27%中間選民，整體而言，選民結構上國民黨（藍營）較具優勢，藍綠選民比率約在六比四左右。\n",
      "7根 據中央選舉委員會公布過去10年新竹市總統、立法委員及市長選舉結果，有效票數得票率統計如次： 一、2012年區域立法委員選舉，國民黨53.27%、民進黨41.85%； 二、2009年縣市長選舉，國民黨55.63%、民進黨41.32%； 三、2008年總統選舉，國民黨64.7%、民進黨35.3%； 四、2008年區域立法委員選舉，國民黨60.62%、民進黨38.12%； 五、2005年市長選舉，國民黨69.27%、民進黨30.73%； 總體來說，國民黨得票率最低仍有 53.27%以上，基本盤皆相當穩定。而民進黨得票率則在30.73%至41.85%之間遊移。因此，從過往選舉結果數據統計及基本選民結構來看2014年選舉結果，新竹市長當選人怎麼看都不可能是林智堅。有鑑於此，林智堅勝選已非「表面上」之民調結果、選舉結果數據統計及基本選民結構等因素所能夠解釋，本研究將以更細微的角度，從林智堅所具備之政治、社會基礎及立基於選民的投票取向切入，逐一疏理分析林智堅之勝選因素。 \n",
      "第二節  研究目的與主要研究問題  \n",
      "壹、研究目的  2014年新竹市長選舉結果，民進黨籍候選人林智堅得到 76,578張選票，獲票率達38.35%，當選民選新竹市市長；國民黨許明財得票數為 75,564，獲票率為 37.85%； 無黨籍蔡仁堅得票40,480票 ， 獲票比例為20.27%； 無黨籍劉正幸得票1,914 票，獲票比例為0.95%；無黨籍吳淑敏得票5,101，獲票比例2.55%。\n",
      "8在民主政治\n",
      "7參見未來事件交易所，http://www.xsmart4.com/ploy/ploy_detail.asp?id=1080&ClassID=677&KeywordID=all&SearchString_Data=&page=1&lastpage=10，檢索日期2015年12月28日。 \n",
      "8中央選委會，http://db.cec.gov.tw/histMain.jsp?voteSel=20141101C1 ，檢索日期105年1月18日。 3                                           \n"
     ]
    }
   ],
   "source": [
    "with open(\"Yu.pdf\", \"rb\") as pdf_file:\n",
    "    read_pdf = PyPDF2.PdfFileReader(pdf_file)\n",
    "    number_of_pages = read_pdf.getNumPages()\n",
    "    page = read_pdf.pages[10]\n",
    "    page_content = page.extractText()\n",
    "print(page_content)"
   ]
  },
  {
   "cell_type": "markdown",
   "metadata": {},
   "source": [
    "# 3. Data Preprocess"
   ]
  },
  {
   "cell_type": "code",
   "execution_count": 56,
   "metadata": {},
   "outputs": [],
   "source": [
    "text=[]\n",
    "with open(\"Lin.pdf\", \"rb\") as pdf_file:\n",
    "    read_pdf = PyPDF2.PdfFileReader(pdf_file)\n",
    "    number_of_pages = read_pdf.getNumPages()\n",
    "    for i in range(number_of_pages-1):\n",
    "        page = read_pdf.pages[i]\n",
    "        page_content = page.extractText()\n",
    "        text.append(page_content)\n",
    "        \n",
    "str_L=' '\n",
    "for t in text:\n",
    "        str_L+=t+' '\n",
    "        \n",
    "text_file = open(\"Lin.txt\", \"w\", encoding='UTF-8')\n",
    "text_file.write(str_L)\n",
    "text_file.close()"
   ]
  },
  {
   "cell_type": "code",
   "execution_count": 57,
   "metadata": {},
   "outputs": [],
   "source": [
    "text=[]\n",
    "with open(\"Yu.pdf\", \"rb\") as pdf_file:\n",
    "    read_pdf = PyPDF2.PdfFileReader(pdf_file)\n",
    "    number_of_pages = read_pdf.getNumPages()\n",
    "    for i in range(number_of_pages-1):\n",
    "        page = read_pdf.pages[i]\n",
    "        page_content = page.extractText()\n",
    "        text.append(page_content)\n",
    "        \n",
    "str_Y=' '\n",
    "for t in text:\n",
    "        str_Y+=t+' '\n",
    "        \n",
    "text_file = open(\"Yu.txt\", \"w\", encoding='UTF-8')\n",
    "text_file.write(str_Y)\n",
    "text_file.close()"
   ]
  },
  {
   "cell_type": "markdown",
   "metadata": {},
   "source": [
    "# 4. Import Data"
   ]
  },
  {
   "cell_type": "code",
   "execution_count": 12,
   "metadata": {},
   "outputs": [],
   "source": [
    "file_a='Lin.txt';file_b='Yu.txt'\n",
    "str_a = '';str_b = ''\n",
    "if not os.path.isfile(file_a):\n",
    "    print(file_a,\"is not file\")\n",
    "elif not os.path.isfile(file_b):\n",
    "    print(file_b,\"is not file\")\n",
    "else:\n",
    "    with open(file_a,'r', encoding='UTF-8') as f:\n",
    "        for line in f.readlines():\n",
    "            str_a += line.strip()\n",
    "                \n",
    "        f.close()\n",
    "    with open(file_b,'r', encoding='UTF-8') as f:\n",
    "        for line in f.readlines():\n",
    "            str_b += line.strip()\n",
    "                \n",
    "        f.close()"
   ]
  },
  {
   "cell_type": "markdown",
   "metadata": {},
   "source": [
    "# 5. 分詞"
   ]
  },
  {
   "cell_type": "code",
   "execution_count": 13,
   "metadata": {},
   "outputs": [],
   "source": [
    "def splitWords(str_a):\n",
    "    wordsa=pseg.cut(str_a)\n",
    "    cuta = \"\"\n",
    "    seta = set()\n",
    "    for key in wordsa:\n",
    "        #print(key.word,key.flag)\n",
    "        cuta += key.word + \" \"\n",
    "        seta.add(key.word) \n",
    "    return [cuta, seta]"
   ]
  },
  {
   "cell_type": "markdown",
   "metadata": {},
   "source": [
    "# 6. Jaccard Similarity\n",
    "ref: https://medium.com/data-science-bootcamp/understand-jaccard-index-jaccard-similarity-in-minutes-25a703fbf9d7"
   ]
  },
  {
   "cell_type": "code",
   "execution_count": 14,
   "metadata": {},
   "outputs": [],
   "source": [
    "def JaccardSim(str_a,str_b):\n",
    "    '''\n",
    "    len（sa & sb）/ len（sa | sb）\n",
    "    '''\n",
    "    seta = splitWords(str_a)[1]\n",
    "    setb = splitWords(str_b)[1]\n",
    "    sa_sb = 1.0 * len(seta & setb) / len(seta | setb)\n",
    "    return sa_sb"
   ]
  },
  {
   "cell_type": "code",
   "execution_count": 32,
   "metadata": {},
   "outputs": [
    {
     "name": "stdout",
     "output_type": "stream",
     "text": [
      "林志堅跟余正煌的論文相似度 (Jaccard Simialrity):  38.19 %\n"
     ]
    }
   ],
   "source": [
    "print(\"林志堅跟余正煌的論文相似度 (Jaccard Simialrity): \", round(JaccardSim(str_a,str_b)*100,2),\"%\")"
   ]
  },
  {
   "cell_type": "markdown",
   "metadata": {},
   "source": [
    "# 7. Cosine Similarity\n",
    "ref: https://medium.com/geekculture/cosine-similarity-and-cosine-distance-48eed889a5c4"
   ]
  },
  {
   "cell_type": "code",
   "execution_count": 24,
   "metadata": {},
   "outputs": [],
   "source": [
    "def cos_sim(a,b):\n",
    "    a = np.array(a)\n",
    "    b = np.array(b)\n",
    "    return np.sum(a*b)/(np.sqrt(np.sum(a**2))*np.sqrt(np.sum(b**2)))"
   ]
  },
  {
   "cell_type": "markdown",
   "metadata": {},
   "source": [
    "## Term Frequency(TF) — Inverse Dense Frequency(IDF)\n",
    "ref: https://medium.com/analytics-vidhya/tf-idf-term-frequency-technique-easiest-explanation-for-text-classification-in-nlp-with-code-8ca3912e58c3"
   ]
  },
  {
   "cell_type": "code",
   "execution_count": 28,
   "metadata": {},
   "outputs": [],
   "source": [
    "def countIDF(text,topK):\n",
    "    tfidf = analyse.extract_tags\n",
    "    cipin = {}\n",
    "    fenci = jieba.cut(text)\n",
    "    for word in fenci:\n",
    "        if word not in cipin.keys():\n",
    "            cipin[word] = 0\n",
    "        cipin[word] += 1\n",
    "    keywords = tfidf(text,topK,withWeight=True)\n",
    "    ans = []\n",
    "    for keyword in keywords:\n",
    "        ans.append(cipin[keyword[0]])\n",
    "    return ans"
   ]
  },
  {
   "cell_type": "code",
   "execution_count": 34,
   "metadata": {},
   "outputs": [],
   "source": [
    "def splitWord_CosineSimlaryty(str_a,str_b,topK = 20,sim =cos_sim):\n",
    "    vec_a = countIDF(str_a,topK)\n",
    "    vec_b = countIDF(str_b,topK)\n",
    "    return sim(vec_a,vec_b)"
   ]
  },
  {
   "cell_type": "code",
   "execution_count": 35,
   "metadata": {},
   "outputs": [
    {
     "name": "stdout",
     "output_type": "stream",
     "text": [
      "林志堅跟余正煌的論文相似度 (Cosine Simialrity):  93.56 %\n"
     ]
    }
   ],
   "source": [
    "print(\"林志堅跟余正煌的論文相似度 (Cosine Simialrity): \", round(splitWord_CosineSimlaryty(str_a,str_b)*100,2),\"%\")"
   ]
  },
  {
   "cell_type": "markdown",
   "metadata": {},
   "source": [
    "# 8 Persion Similarity\n",
    "ref: https://medium.com/@cavaldovinos/human-pose-estimation-pose-similarity-dc8bf9f78556"
   ]
  },
  {
   "cell_type": "code",
   "execution_count": 36,
   "metadata": {},
   "outputs": [],
   "source": [
    "def pers_sim(a,b):\n",
    "    a = np.array(a)\n",
    "    b = np.array(b)\n",
    "    a = a - np.average(a)\n",
    "    b = b - np.average(b)\n",
    "    return np.sum(a*b) / (np.sqrt(np.sum(a**2))*np.sqrt(np.sum(b**2)))"
   ]
  },
  {
   "cell_type": "code",
   "execution_count": 37,
   "metadata": {},
   "outputs": [],
   "source": [
    "def splitWord_PersionSimlaryty(str_a,str_b,topK = 20,sim =pers_sim):\n",
    "    vec_a = countIDF(str_a,topK)\n",
    "    vec_b = countIDF(str_b,topK)\n",
    "    return sim(vec_a,vec_b)"
   ]
  },
  {
   "cell_type": "code",
   "execution_count": 38,
   "metadata": {},
   "outputs": [
    {
     "name": "stdout",
     "output_type": "stream",
     "text": [
      "林志堅跟余正煌的論文相似度 (Cosine Simialrity):  52.26 %\n"
     ]
    }
   ],
   "source": [
    "print(\"林志堅跟余正煌的論文相似度 (Cosine Simialrity): \", round(splitWord_PersionSimlaryty(str_a,str_b)*100,2),\"%\")"
   ]
  },
  {
   "cell_type": "markdown",
   "metadata": {},
   "source": [
    "# Summary"
   ]
  },
  {
   "cell_type": "markdown",
   "metadata": {},
   "source": [
    "| Methodology | 林志堅跟余正煌的論文相似度 |\n",
    "| :--: | :--: |\n",
    "| Jaccard Similarity | 38.19% |\n",
    "| Cosine Similarity | 93.56% |\n",
    "| Persion Similarity | 52.26% |"
   ]
  }
 ],
 "metadata": {
  "kernelspec": {
   "display_name": "Python (tensorflow-gpu)",
   "language": "python",
   "name": "tensorflow-gpu"
  },
  "language_info": {
   "codemirror_mode": {
    "name": "ipython",
    "version": 3
   },
   "file_extension": ".py",
   "mimetype": "text/x-python",
   "name": "python",
   "nbconvert_exporter": "python",
   "pygments_lexer": "ipython3",
   "version": "3.6.4"
  }
 },
 "nbformat": 4,
 "nbformat_minor": 2
}
